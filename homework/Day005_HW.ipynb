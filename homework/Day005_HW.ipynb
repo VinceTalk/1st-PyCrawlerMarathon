{
 "cells": [
  {
   "cell_type": "markdown",
   "metadata": {},
   "source": [
    "# API 資料串接 - 以 Dcard API 實作範例\n",
    "\n",
    "* 利用 urllib 套件的 urlretrieve 方法下載檔案\n",
    "* 了解 Python File I/O 讀檔、寫檔的用法\n",
    "* 能用運用資源管理器 With Statement 優化寫法"
   ]
  },
  {
   "cell_type": "markdown",
   "metadata": {},
   "source": [
    "## 作業目標\n",
    "\n",
    "* 請利用 API: https://www.dcard.tw/_api/forums/pet/posts?popular=true 回答下列問題：\n",
    "\n",
    "1. 這個 API 一次會回傳幾筆資料？每一筆資料包含哪些欄位？\n",
    "2. 取出每一筆資料的「標題」、「貼文時間」、「留言人數」、「按讚人數」\n",
    "3. 計算熱門/非熱門文章的「平均留言人數」與「平均按讚人數」"
   ]
  },
  {
   "cell_type": "code",
   "execution_count": 1,
   "metadata": {},
   "outputs": [
    {
     "name": "stdout",
     "output_type": "stream",
     "text": [
      "不要被薩摩耶給騙了！\n",
      "這些狗你認識嗎😍\n",
      "充滿柴柴的人生❤️\n",
      "#圖多 偷看🐹上廁所......\n",
      "請問這樣算不算虐貓\n",
      "兄弟貓🧐\n",
      "#圖 柴柴 你能懂我的明白嗎？\n",
      "沒有責任感根本沒資格養寵物\n",
      "紙袋破壞王🏆\n",
      "高科大校板的遺失倉鼠\n",
      "我竟然被我家ㄉ狗鄙視！\n",
      "天冷怎麼辦ಥ_ಥ #柯基#圖多\n",
      "貓咪教妳皮笑肉不笑🙂\n",
      "🐰誰說兔子不能碰水！兔子❤️海灘\n",
      "幼貓送養文\n",
      "#募款 #貓 愛在街角，守護浪貓\n",
      "你也知道要坐那\n",
      "求吸鴨地點\n",
      "請問有人的柴犬走失嗎？(已找到失主，謝謝大家的幫忙🙏）\n",
      "我養了一隻樹懶🦥\n",
      "吸貓治百病\n",
      "就是你！！！我的菜！！！\n",
      "有愛的假兄弟\n",
      "當我的貓和海豹都是一個囧臉\n",
      "我家柴犬一系列照片\n",
      "協尋幼犬\n",
      "限動裡的小三線們\n",
      "囤貓囤起來😻/圖多文長\n",
      "👻我的隱形貓貓\n",
      "走失狗狗\n"
     ]
    },
    {
     "data": {
      "text/plain": [
       "30"
      ]
     },
     "execution_count": 1,
     "metadata": {},
     "output_type": "execute_result"
    }
   ],
   "source": [
    "# 1. 這個 API 一次會回傳幾筆資料？每一筆資料包含哪些欄位？\n",
    "import requests\n",
    "import json\n",
    "\n",
    "r = requests.get('https://www.dcard.tw/_api/forums/pet/posts?popular=true')\n",
    "response = r.text\n",
    "\n",
    "data = json.loads(response)\n",
    "\n",
    "c = 0\n",
    "for d in data:\n",
    "    print(d['title'])\n",
    "    c = c + 1\n",
    "    \n",
    "c\n",
    "#Ans: 一次回傳 30筆資料"
   ]
  },
  {
   "cell_type": "code",
   "execution_count": 2,
   "metadata": {},
   "outputs": [
    {
     "data": {
      "text/plain": [
       "['id',\n",
       " 'title',\n",
       " 'excerpt',\n",
       " 'anonymousSchool',\n",
       " 'anonymousDepartment',\n",
       " 'pinned',\n",
       " 'forumId',\n",
       " 'replyId',\n",
       " 'createdAt',\n",
       " 'updatedAt',\n",
       " 'commentCount',\n",
       " 'likeCount',\n",
       " 'withNickname',\n",
       " 'tags',\n",
       " 'topics',\n",
       " 'meta',\n",
       " 'forumName',\n",
       " 'forumAlias',\n",
       " 'gender',\n",
       " 'school',\n",
       " 'department',\n",
       " 'replyTitle',\n",
       " 'mediaMeta',\n",
       " 'reactions',\n",
       " 'hidden',\n",
       " 'customStyle',\n",
       " 'isSuspiciousAccount',\n",
       " 'layout',\n",
       " 'withImages',\n",
       " 'withVideos',\n",
       " 'media',\n",
       " 'reportReasonText',\n",
       " 'postAvatar']"
      ]
     },
     "execution_count": 2,
     "metadata": {},
     "output_type": "execute_result"
    }
   ],
   "source": [
    "tags = []\n",
    "\n",
    "for i in data[0]:\n",
    "    tags.append(i)\n",
    "    \n",
    "tags\n",
    "#Ans: 每一筆資料包含以下欄位"
   ]
  },
  {
   "cell_type": "code",
   "execution_count": 3,
   "metadata": {},
   "outputs": [
    {
     "name": "stdout",
     "output_type": "stream",
     "text": [
      "不要被薩摩耶給騙了！ 2019-11-29T00:25:38.826Z 63 2572\n",
      "這些狗你認識嗎😍 2019-11-28T04:08:18.539Z 45 1636\n",
      "充滿柴柴的人生❤️ 2019-11-28T07:19:45.391Z 18 563\n",
      "#圖多 偷看🐹上廁所...... 2019-11-28T13:44:17.224Z 16 525\n",
      "請問這樣算不算虐貓 2019-11-28T09:04:40.825Z 45 433\n",
      "兄弟貓🧐 2019-11-28T12:25:11.285Z 11 174\n",
      "#圖 柴柴 你能懂我的明白嗎？ 2019-11-28T16:22:31.895Z 7 125\n",
      "沒有責任感根本沒資格養寵物 2019-11-28T11:47:21.176Z 20 124\n",
      "紙袋破壞王🏆 2019-11-28T09:43:33.709Z 4 94\n",
      "高科大校板的遺失倉鼠 2019-11-28T05:23:12.530Z 2 65\n",
      "我竟然被我家ㄉ狗鄙視！ 2019-11-28T16:51:07.018Z 3 50\n",
      "天冷怎麼辦ಥ_ಥ #柯基#圖多 2019-11-28T15:47:50.708Z 0 48\n",
      "貓咪教妳皮笑肉不笑🙂 2019-11-28T11:55:17.571Z 2 41\n",
      "🐰誰說兔子不能碰水！兔子❤️海灘 2019-11-29T07:34:46.328Z 5 40\n",
      "幼貓送養文 2019-11-28T02:52:25.651Z 5 32\n",
      "#募款 #貓 愛在街角，守護浪貓 2019-11-28T07:11:04.741Z 1 28\n",
      "你也知道要坐那 2019-11-28T17:00:22.755Z 3 27\n",
      "求吸鴨地點 2019-11-28T03:29:49.177Z 12 25\n",
      "請問有人的柴犬走失嗎？(已找到失主，謝謝大家的幫忙🙏） 2019-11-28T14:57:09.825Z 3 23\n",
      "我養了一隻樹懶🦥 2019-11-28T12:18:21.317Z 6 22\n",
      "吸貓治百病 2019-11-29T06:53:05.300Z 3 21\n",
      "就是你！！！我的菜！！！ 2019-11-29T03:10:51.060Z 0 21\n",
      "有愛的假兄弟 2019-11-29T04:09:24.480Z 0 19\n",
      "當我的貓和海豹都是一個囧臉 2019-11-28T05:35:09.787Z 4 19\n",
      "我家柴犬一系列照片 2019-11-29T05:02:04.820Z 3 17\n",
      "協尋幼犬 2019-11-28T03:29:33.883Z 1 16\n",
      "限動裡的小三線們 2019-11-29T04:00:40.448Z 4 12\n",
      "囤貓囤起來😻/圖多文長 2019-11-29T03:41:19.070Z 1 12\n",
      "👻我的隱形貓貓 2019-11-28T03:34:49.818Z 2 11\n",
      "走失狗狗 2019-11-28T03:23:31.964Z 1 10\n"
     ]
    }
   ],
   "source": [
    "# 2. 取出每一筆資料的「標題」、「貼文時間」、「留言人數」、「按讚人數」\n",
    "\n",
    "for i in data:\n",
    "    print(i['title'], i['createdAt'], i['commentCount'], i['likeCount'])"
   ]
  },
  {
   "cell_type": "code",
   "execution_count": 4,
   "metadata": {},
   "outputs": [
    {
     "name": "stdout",
     "output_type": "stream",
     "text": [
      "熱門「平均留言人數」: 9.67\n",
      "熱門「平均按讚人數」: 226.83\n",
      "非熱門「平均留言人數」: 2.97\n",
      "非熱門「平均按讚人數」: 4.3\n"
     ]
    }
   ],
   "source": [
    "# 3. 計算熱門/非熱門文章的「平均留言人數」與「平均按讚人數」\n",
    "\n",
    "count_popular_true = 0\n",
    "\n",
    "r = requests.get('https://www.dcard.tw/_api/forums/pet/posts?popular=true')\n",
    "response = r.text\n",
    "\n",
    "data = json.loads(response)\n",
    "\n",
    "count = 0\n",
    "count_p = 0\n",
    "count_l = 0\n",
    "\n",
    "for i in data:\n",
    "    count = count + 1\n",
    "    count_p = count_p + i['commentCount']\n",
    "    count_l = count_l + i['likeCount']\n",
    "    \n",
    "print(\"熱門「平均留言人數」:\", round(count_p/count,2))\n",
    "print(\"熱門「平均按讚人數」:\", round(count_l/count,2))\n",
    "\n",
    "count_popular_false = 0\n",
    "\n",
    "r = requests.get('https://www.dcard.tw/_api/forums/pet/posts?popular=false')\n",
    "response = r.text\n",
    "\n",
    "data = json.loads(response)\n",
    "\n",
    "count = 0\n",
    "count_p = 0\n",
    "count_l = 0\n",
    "\n",
    "for i in data:\n",
    "    count = count + 1\n",
    "    count_p = count_p + i['commentCount']\n",
    "    count_l = count_l + i['likeCount']\n",
    "    \n",
    "print(\"非熱門「平均留言人數」:\", round(count_p/count,2))\n",
    "print(\"非熱門「平均按讚人數」:\", round(count_l/count,2))\n"
   ]
  },
  {
   "cell_type": "code",
   "execution_count": null,
   "metadata": {},
   "outputs": [],
   "source": []
  }
 ],
 "metadata": {
  "kernelspec": {
   "display_name": "Python 3",
   "language": "python",
   "name": "python3"
  },
  "language_info": {
   "codemirror_mode": {
    "name": "ipython",
    "version": 3
   },
   "file_extension": ".py",
   "mimetype": "text/x-python",
   "name": "python",
   "nbconvert_exporter": "python",
   "pygments_lexer": "ipython3",
   "version": "3.7.4"
  }
 },
 "nbformat": 4,
 "nbformat_minor": 2
}
